{
 "cells": [
  {
   "cell_type": "markdown",
   "metadata": {},
   "source": [
    "# Analysis of CO² Emissions on Passenger Cars at the E.U. Contries, Year 2015\n",
    "\n",
    "#### The Regulation (EC) No 510/2011 of the European Union requires that all member states report annualy info about the registrations of new cars including data like Manufacturer, Commercial Name, CO² emissions, Weight, Fuel Type and others. This is a analysis of the data collected on 2015, available at http://www.eea.europa.eu/data-and-maps/data/co2-cars-emission-11."
   ]
  },
  {
   "cell_type": "markdown",
   "metadata": {},
   "source": [
    "## Overview and treating of the data\n",
    "\n",
    "The data is a .csv table file, with 440.646 rows. There are several columns, but this analysis will focus on just a few of them.\n",
    "\n",
    "### Columns\n",
    "Field Name, Field Definition:\n",
    "\n",
    "- MS: Member state\n",
    "\n",
    "- Mh: Manufacturer harmonised\n",
    "\n",
    "- Cn: Commercial name \tvarchar(120) \tNo\n",
    "\n",
    "- r: Total new registrations\n",
    "\n",
    "- m (kg): Mass \tinteger\n",
    "\n",
    "- e (g/km): Specific CO2 Emissions \tinteger\n",
    "\n",
    "- Ft: Fuel type \tvarchar(120)"
   ]
  },
  {
   "cell_type": "markdown",
   "metadata": {},
   "source": [
    "### Python modules to be used and common functions\n",
    "\n",
    "The following scripts will use mainly: pandas, numpy, matplotlib and bokeh"
   ]
  },
  {
   "cell_type": "code",
   "execution_count": 2,
   "metadata": {
    "collapsed": true
   },
   "outputs": [],
   "source": [
    "import pandas as pd\n",
    "import numpy as np\n",
    "import matplotlib.pyplot as plt\n",
    "from bokeh.plotting import figure\n",
    "from bokeh.layouts import row\n",
    "from bokeh.plotting import ColumnDataSource\n",
    "from bokeh.models import HoverTool\n",
    "from bokeh.models import Span, Label\n",
    "from bokeh.charts import output_notebook, show, Bar, output_file, BoxPlot"
   ]
  },
  {
   "cell_type": "code",
   "execution_count": 3,
   "metadata": {
    "collapsed": true
   },
   "outputs": [],
   "source": [
    "import warnings\n",
    "from IPython.core.display import display, HTML\n",
    "\n",
    "#disable annoying warnings\n",
    "warnings.filterwarnings('ignore')\n",
    "\n",
    "#alternative to output_notebook which loads html from file \n",
    "def displayHTML(file):\n",
    "    with open(file, 'r') as myfile:\n",
    "        data=myfile.read()\n",
    "        display(HTML(data))\n",
    "\n",
    "#returns a reduced version of a dataframe, given a percentage (topx) and a column to sort        \n",
    "def topX(dataFrame, topx, column, ascendingOrder=False):\n",
    "    sorted = data.sort([column], ascending=ascendingOrder)\n",
    "    nRows = data.shape[0]\n",
    "    toRemain = nRows * topx\n",
    "    toUse = []\n",
    "    for i in range(nRows):\n",
    "        if(i <= toRemain):\n",
    "            toUse.append(True)\n",
    "        else:\n",
    "            toUse.append(False)\n",
    "    return data[toUse]"
   ]
  },
  {
   "cell_type": "markdown",
   "metadata": {},
   "source": [
    "### Reducing the original dataset and converting to csv:\n",
    "Optional, only do this if the '-less' dataset does not exist yet"
   ]
  },
  {
   "cell_type": "code",
   "execution_count": null,
   "metadata": {
    "collapsed": true
   },
   "outputs": [],
   "source": [
    "data = pd.read_csv(\"../datasets/CO2_passenger_cars_v12.tsv\", sep='\\t', header=0)\n",
    "\n",
    "nRows = data.shape[0] #get count of rows\n",
    "print(\"Rows before: \")\n",
    "print(nRows)\n",
    "\n",
    "lessData = topX(data, 0.01, 'r')\n",
    "\n",
    "print(\"Rows now: \")\n",
    "print(lessData.shape[0])\n",
    "\n",
    "lessData.to_csv(\"../datasets/CO2-passenger-cars-v12-less.csv\")"
   ]
  },
  {
   "cell_type": "markdown",
   "metadata": {},
   "source": [
    "### Treating the data\n",
    "(Optional, only do this if the '-treated' datasets do not exist yet)\n",
    "\n",
    "First, setting the data type for the columns:"
   ]
  },
  {
   "cell_type": "code",
   "execution_count": null,
   "metadata": {
    "collapsed": true
   },
   "outputs": [],
   "source": [
    "#data = pd.read_csv(\"datasets/CO2_passenger_cars_v12.tsv\", sep='\\t', header=0)#treating the original data\n",
    "data = pd.read_csv(\"../datasets/CO2-passenger-cars-v12-less.csv\", header=0)#treating the -less data\n",
    "\n",
    "data = pd.concat([data[col].astype(str).str.upper() for col in data.columns], axis=1)\n",
    "data['id'] = data['id'].astype(int)\n",
    "data['r'] = data['r'].astype(int)\n",
    "data['e (g/km)'] = data['e (g/km)'].astype(float)\n",
    "data['m (kg)'] = data['m (kg)'].astype(float)\n",
    "data['w (mm)'] = data['w (mm)'].astype(float)\n",
    "data['at1 (mm)'] = data['at1 (mm)'].astype(float)\n",
    "data['at2 (mm)'] = data['at2 (mm)'].astype(float)\n",
    "data['ec (cm3)'] = data['ec (cm3)'].astype(float)\n",
    "data['z (Wh/km)'] = data['z (Wh/km)'].astype(float)\n",
    "data['Er (g/km)'] = data['Er (g/km)'].astype(float)\n",
    "data['ep (KW)'] = data['ep (KW)'].astype(float)\n",
    "data.rename(columns={'e (g/km)': 'e', 'm (kg)': 'm'}, inplace=True)"
   ]
  },
  {
   "cell_type": "markdown",
   "metadata": {},
   "source": [
    "Now, its time to remove some useless columns:"
   ]
  },
  {
   "cell_type": "code",
   "execution_count": null,
   "metadata": {
    "collapsed": true
   },
   "outputs": [],
   "source": [
    "data = data.drop('MP', 1);\n",
    "data = data.drop('MMS', 1);\n",
    "data = data.drop('T', 1);\n",
    "data = data.drop('w (mm)', 1);\n",
    "data = data.drop('at1 (mm)', 1);\n",
    "data = data.drop('at2 (mm)', 1);\n",
    "data = data.drop('TAN', 1);"
   ]
  },
  {
   "cell_type": "markdown",
   "metadata": {},
   "source": [
    "Finally, I add a column whose value is the amount of CO² emissions per kg of the car:"
   ]
  },
  {
   "cell_type": "code",
   "execution_count": null,
   "metadata": {
    "collapsed": true
   },
   "outputs": [],
   "source": [
    "emission = data['e']\n",
    "kg = data['m']\n",
    "ePerKG = emission / kg\n",
    "data['ePerKG(e/m)'] = ePerKG\n",
    "\n",
    "#data.to_csv(\"CO2-passenger-cars-v12-treated.csv\")\n",
    "data.to_csv(\"../datasets/CO2-passenger-cars-v12-treated-less.csv\")"
   ]
  },
  {
   "cell_type": "markdown",
   "metadata": {},
   "source": [
    "### Select dataset\n",
    "Processing the full data provided by the E.U. can be very (VERY) slow, requering a powerfull machine. If this notebook is not being run on such a machine, selec the '-less' dataset: "
   ]
  },
  {
   "cell_type": "code",
   "execution_count": null,
   "metadata": {
    "collapsed": true
   },
   "outputs": [],
   "source": [
    "#datasetPath = \"datasets/CO2-passenger-cars-v12-less.csv\"\n",
    "datasetPath = \"../datasets/CO2-passenger-cars-v12-treated-less.csv\"\n",
    "#datasetPath = \"datasets/CO2-passenger-cars-v12-treated.csv\"\n",
    "#datasetPath = \"datasets/CO2_passenger_cars_v12.tsv\" #use separator='\\t\n",
    "\n",
    "euCountriesPath = \"../datasets/european-union-countries.csv\""
   ]
  },
  {
   "cell_type": "markdown",
   "metadata": {},
   "source": [
    "## Analysis 1: The biggest and the lowest emitters"
   ]
  },
  {
   "cell_type": "code",
   "execution_count": null,
   "metadata": {
    "collapsed": true
   },
   "outputs": [],
   "source": [
    "data = pd.read_csv(datasetPath, header=0)\n",
    "\n",
    "f = open('../results/lowestEmitters.txt', 'w')\n",
    "f.write(\"\\nThe lowest CO2 emitters: \\n\")\n",
    "count = 0\n",
    "for label, row in data.sort(['e'], ascending=True).iterrows():\n",
    "    f.write(row['Mk'] + \" \" + row['Cn'] + \": \" + str(row['e']) + '\\n')\n",
    "    if(count == 12):\n",
    "        break\n",
    "    else:\n",
    "        count = count +1\n",
    "f.close()\n",
    "f = open('../results/biggestEmitters.txt', 'w')\n",
    "f.write(\"The biggest CO2 emitters: \\n\")      \n",
    "count = 0\n",
    "for label, row in data.sort(['e'], ascending=False).iterrows():\n",
    "    f.write(row['Mk'] + \" \" + row['Cn'] + \": \" + str(row['e'])+'\\n')\n",
    "    if(count == 12):\n",
    "        break\n",
    "    else:\n",
    "        count = count +1\n",
    "f.close()"
   ]
  },
  {
   "cell_type": "code",
   "execution_count": null,
   "metadata": {
    "collapsed": false
   },
   "outputs": [],
   "source": [
    "f = open('../results/lowestEmitters.txt', 'r')\n",
    "print(f.read())\n",
    "f = open('../results/biggestEmitters.txt', 'r')\n",
    "print(f.read())"
   ]
  },
  {
   "cell_type": "markdown",
   "metadata": {},
   "source": [
    "Explain results and show pictures of some car models found"
   ]
  },
  {
   "cell_type": "markdown",
   "metadata": {},
   "source": [
    "## Analysis 2: Fuel Types in E.U. - Use and Impact\n"
   ]
  },
  {
   "cell_type": "code",
   "execution_count": null,
   "metadata": {
    "collapsed": false
   },
   "outputs": [
    {
     "name": "stdout",
     "output_type": "stream",
     "text": [
      "NG-BIOMETHANE : \n",
      "LPG : \n",
      "PETROL-ELECTRIC : \n",
      "PETROL : \n",
      "DIESEL : \n",
      "ELECTRIC : \n",
      "{'NG-BIOMETHANE', 'LPG', 'PETROL-ELECTRIC', 'PETROL', 'DIESEL', 'ELECTRIC'}\n",
      "122836\n"
     ]
    }
   ],
   "source": [
    "data = pd.read_csv(datasetPath, header=0)\n",
    "\n",
    "#create set with the existant fuel types\n",
    "fuelTypes = set([])\n",
    "fuelTypeColumn = data['Ft']\n",
    "for i in fuelTypeColumn.values:\n",
    "    fuelTypes.add(i)\n",
    "\n",
    "#search for data on each fuel type\n",
    "fuelTypeArray = []\n",
    "emissionArray = []\n",
    "fuelTypesDataframes = dict([])\n",
    "fuelTypeRegs = pd.Series()\n",
    "for f in fuelTypes:\n",
    "    fuelTypesDataframes[f] = data[data.Ft == f]\n",
    "    fuelTypeRegs[f] = 0;\n",
    "    for label, row in fuelTypesDataframes[f].iterrows():\n",
    "        rgs = row['r']\n",
    "        fuelTypeRegs[f] = fuelTypeRegs[f] + rgs"
   ]
  },
  {
   "cell_type": "code",
   "execution_count": null,
   "metadata": {
    "collapsed": false
   },
   "outputs": [],
   "source": [
    "sum = 0\n",
    "for x in fuelTypeRegs:\n",
    "    sum = sum + x\n",
    "\n",
    "fuelTypeRegs = (fuelTypeRegs / sum)*100\n",
    "\n",
    "ft = dict([])\n",
    "ft['Usage %'] = []\n",
    "ft['Fuel Type'] = []\n",
    "ft['Fuel Type (detail)'] = []\n",
    "for key,value in fuelTypeRegs.items():\n",
    "    ft['Usage %'].append(value)\n",
    "    ft['Fuel Type (detail)'].append(key)\n",
    "    if(value < 10):\n",
    "        ft['Fuel Type'].append('Others')\n",
    "    else:\n",
    "        ft['Fuel Type'].append(key)\n",
    "        \n",
    "p = Bar(ft, values='Usage %', label='Fuel Type', stack='Fuel Type (detail)', legend='top_center')\n",
    "p.plot_height=500\n",
    "p.plot_width=600\n",
    "output_file(\"../results/bars_fueltypes.html\", title=\"Use of different fuel types\")\n",
    "show(p)"
   ]
  },
  {
   "cell_type": "code",
   "execution_count": 5,
   "metadata": {
    "collapsed": false
   },
   "outputs": [
    {
     "data": {
      "text/html": [
       "\n",
       "<!DOCTYPE html>\n",
       "<html lang=\"en\">\n",
       "    <head>\n",
       "        <meta charset=\"utf-8\">\n",
       "        <title>Distribution of Emission (g of CO2 per km) in fuel types</title>\n",
       "        \n",
       "<link rel=\"stylesheet\" href=\"https://cdn.pydata.org/bokeh/release/bokeh-0.12.4.min.css\" type=\"text/css\" />\n",
       "        \n",
       "<script type=\"text/javascript\" src=\"https://cdn.pydata.org/bokeh/release/bokeh-0.12.4.min.js\"></script>\n",
       "<script type=\"text/javascript\">\n",
       "    Bokeh.set_log_level(\"info\");\n",
       "</script>\n",
       "        <style>\n",
       "          html {\n",
       "            width: 100%;\n",
       "            height: 100%;\n",
       "          }\n",
       "          body {\n",
       "            width: 90%;\n",
       "            height: 100%;\n",
       "            margin: auto;\n",
       "          }\n",
       "        </style>\n",
       "    </head>\n",
       "    <body>\n",
       "        \n",
       "        <div class=\"bk-root\">\n",
       "            <div class=\"bk-plotdiv\" id=\"2f497c11-a19d-48c0-852b-40fd8f5f07a5\"></div>\n",
       "        </div>\n",
       "        \n",
       "        <script type=\"text/javascript\">\n",
       "            (function() {\n",
       "          var fn = function() {\n",
       "            Bokeh.safely(function() {\n",
       "              var docs_json = {\"ed92e5fb-f015-46cf-b54f-ad6aed603510\":{\"roots\":{\"references\":[{\"attributes\":{\"callback\":null,\"column_names\":[\"x\",\"y\",\"width\",\"height\",\"color\",\"fill_alpha\",\"line_color\",\"line_alpha\",\"label\"],\"data\":{\"Fuel Type\":[\"PETROL\"],\"Fuel Type (detail)\":[\"PETROL\"],\"chart_index\":[{\"Fuel Type\":\"PETROL\",\"Fuel Type (detail)\":\"PETROL\"}],\"color\":[\"#00ad9c\"],\"fill_alpha\":[0.8],\"height\":[72.18214607754734],\"label\":[{\"Fuel Type\":\"PETROL\",\"Fuel Type (detail)\":\"PETROL\"}],\"line_alpha\":[1.0],\"line_color\":[\"white\"],\"width\":[0.8],\"x\":[\"PETROL\"],\"y\":[36.09107303877367]}},\"id\":\"e111b274-3deb-4601-b3f2-a767324bb9a6\",\"type\":\"ColumnDataSource\"},{\"attributes\":{},\"id\":\"6ef65a05-966c-4219-b150-aecd36302641\",\"type\":\"CategoricalTicker\"},{\"attributes\":{},\"id\":\"f30b1300-e0e7-49d4-b782-0f89ae421b77\",\"type\":\"CategoricalTickFormatter\"},{\"attributes\":{\"fill_alpha\":{\"field\":\"fill_alpha\"},\"fill_color\":{\"field\":\"color\"},\"height\":{\"field\":\"height\",\"units\":\"data\"},\"line_color\":{\"field\":\"line_color\"},\"width\":{\"field\":\"width\",\"units\":\"data\"},\"x\":{\"field\":\"x\"},\"y\":{\"field\":\"y\"}},\"id\":\"e1a97ba4-094c-4441-9611-21d796dabcc7\",\"type\":\"Rect\"},{\"attributes\":{\"callback\":null,\"column_names\":[\"x\",\"y\",\"width\",\"height\",\"color\",\"fill_alpha\",\"line_color\",\"line_alpha\",\"label\"],\"data\":{\"Fuel Type\":[\"Others\"],\"Fuel Type (detail)\":[\"ELECTRIC\"],\"chart_index\":[{\"Fuel Type\":\"Others\",\"Fuel Type (detail)\":\"ELECTRIC\"}],\"color\":[\"#5ab738\"],\"fill_alpha\":[0.8],\"height\":[0.009328068157084668],\"label\":[{\"Fuel Type\":\"Others\",\"Fuel Type (detail)\":\"ELECTRIC\"}],\"line_alpha\":[1.0],\"line_color\":[\"white\"],\"width\":[0.8],\"x\":[\"Others\"],\"y\":[2.336681073349709]}},\"id\":\"884efb5d-f2f2-4690-b8ff-f722de9384f4\",\"type\":\"ColumnDataSource\"},{\"attributes\":{\"callback\":null,\"column_names\":[\"x\",\"y\",\"width\",\"height\",\"color\",\"fill_alpha\",\"line_color\",\"line_alpha\",\"label\"],\"data\":{\"Fuel Type\":[\"DIESEL\"],\"Fuel Type (detail)\":[\"DIESEL\"],\"chart_index\":[{\"Fuel Type\":\"DIESEL\",\"Fuel Type (detail)\":\"DIESEL\"}],\"color\":[\"#f22c40\"],\"fill_alpha\":[0.8],\"height\":[25.472622119958956],\"label\":[{\"Fuel Type\":\"DIESEL\",\"Fuel Type (detail)\":\"DIESEL\"}],\"line_alpha\":[1.0],\"line_color\":[\"white\"],\"width\":[0.8],\"x\":[\"DIESEL\"],\"y\":[12.736311059979478]}},\"id\":\"4e1b61e2-728e-440f-9625-66de745d0dcc\",\"type\":\"ColumnDataSource\"},{\"attributes\":{\"data_source\":{\"id\":\"edc21b84-ca10-4186-abd7-69d6e92d29c6\",\"type\":\"ColumnDataSource\"},\"glyph\":{\"id\":\"e1a97ba4-094c-4441-9611-21d796dabcc7\",\"type\":\"Rect\"},\"hover_glyph\":null,\"nonselection_glyph\":null,\"selection_glyph\":null},\"id\":\"c92c17e3-cce6-4f06-a024-8bb0b0dd7685\",\"type\":\"GlyphRenderer\"},{\"attributes\":{\"fill_alpha\":{\"field\":\"fill_alpha\"},\"fill_color\":{\"field\":\"color\"},\"height\":{\"field\":\"height\",\"units\":\"data\"},\"line_color\":{\"field\":\"line_color\"},\"width\":{\"field\":\"width\",\"units\":\"data\"},\"x\":{\"field\":\"x\"},\"y\":{\"field\":\"y\"}},\"id\":\"26ea374c-5c28-4e68-befb-237041e6876b\",\"type\":\"Rect\"},{\"attributes\":{\"callback\":null,\"column_names\":[\"x\",\"y\",\"width\",\"height\",\"color\",\"fill_alpha\",\"line_color\",\"line_alpha\",\"label\"],\"data\":{\"Fuel Type\":[\"Others\"],\"Fuel Type (detail)\":[\"NG-BIOMETHANE\"],\"chart_index\":[{\"Fuel Type\":\"Others\",\"Fuel Type (detail)\":\"NG-BIOMETHANE\"}],\"color\":[\"#df5320\"],\"fill_alpha\":[0.8],\"height\":[0.13059295419918535],\"label\":[{\"Fuel Type\":\"Others\",\"Fuel Type (detail)\":\"NG-BIOMETHANE\"}],\"line_alpha\":[1.0],\"line_color\":[\"white\"],\"width\":[0.8],\"x\":[\"Others\"],\"y\":[0.06529647709959267]}},\"id\":\"de79425b-fddb-4b26-9419-1867672e714d\",\"type\":\"ColumnDataSource\"},{\"attributes\":{\"data_source\":{\"id\":\"de79425b-fddb-4b26-9419-1867672e714d\",\"type\":\"ColumnDataSource\"},\"glyph\":{\"id\":\"4bbc2343-a5ca-4ffe-b2aa-8bf2d77252d9\",\"type\":\"Rect\"},\"hover_glyph\":null,\"nonselection_glyph\":null,\"selection_glyph\":null},\"id\":\"f4edf47e-17e1-4653-8977-86406d3c3be4\",\"type\":\"GlyphRenderer\"},{\"attributes\":{\"data_source\":{\"id\":\"e111b274-3deb-4601-b3f2-a767324bb9a6\",\"type\":\"ColumnDataSource\"},\"glyph\":{\"id\":\"26ea374c-5c28-4e68-befb-237041e6876b\",\"type\":\"Rect\"},\"hover_glyph\":null,\"nonselection_glyph\":null,\"selection_glyph\":null},\"id\":\"d52087d8-6136-42a6-8f4d-dbf1e43371fe\",\"type\":\"GlyphRenderer\"},{\"attributes\":{},\"id\":\"2df67e2c-18d9-4b97-b14b-a858331e4503\",\"type\":\"ToolEvents\"},{\"attributes\":{\"fill_alpha\":{\"field\":\"fill_alpha\"},\"fill_color\":{\"field\":\"color\"},\"height\":{\"field\":\"height\",\"units\":\"data\"},\"line_color\":{\"field\":\"line_color\"},\"width\":{\"field\":\"width\",\"units\":\"data\"},\"x\":{\"field\":\"x\"},\"y\":{\"field\":\"y\"}},\"id\":\"b143f1ee-4629-4c8c-9a38-77175b1f5f9e\",\"type\":\"Rect\"},{\"attributes\":{\"label\":{\"value\":\"NG-BIOMETHANE\"},\"renderers\":[{\"id\":\"f4edf47e-17e1-4653-8977-86406d3c3be4\",\"type\":\"GlyphRenderer\"}]},\"id\":\"0cc7e905-3d49-4f9c-9773-637222692633\",\"type\":\"LegendItem\"},{\"attributes\":{\"fill_alpha\":{\"field\":\"fill_alpha\"},\"fill_color\":{\"field\":\"color\"},\"height\":{\"field\":\"height\",\"units\":\"data\"},\"line_color\":{\"field\":\"line_color\"},\"width\":{\"field\":\"width\",\"units\":\"data\"},\"x\":{\"field\":\"x\"},\"y\":{\"field\":\"y\"}},\"id\":\"4bbc2343-a5ca-4ffe-b2aa-8bf2d77252d9\",\"type\":\"Rect\"},{\"attributes\":{\"fill_alpha\":{\"field\":\"fill_alpha\"},\"fill_color\":{\"field\":\"color\"},\"height\":{\"field\":\"height\",\"units\":\"data\"},\"line_color\":{\"field\":\"line_color\"},\"width\":{\"field\":\"width\",\"units\":\"data\"},\"x\":{\"field\":\"x\"},\"y\":{\"field\":\"y\"}},\"id\":\"e58bded0-53cc-4099-b20e-f469cb634fdf\",\"type\":\"Rect\"},{\"attributes\":{\"fill_alpha\":{\"field\":\"fill_alpha\"},\"fill_color\":{\"field\":\"color\"},\"height\":{\"field\":\"height\",\"units\":\"data\"},\"line_color\":{\"field\":\"line_color\"},\"width\":{\"field\":\"width\",\"units\":\"data\"},\"x\":{\"field\":\"x\"},\"y\":{\"field\":\"y\"}},\"id\":\"41b8f82d-a059-4bdb-bf1f-ab5a803065cf\",\"type\":\"Rect\"},{\"attributes\":{\"data_source\":{\"id\":\"4e1b61e2-728e-440f-9625-66de745d0dcc\",\"type\":\"ColumnDataSource\"},\"glyph\":{\"id\":\"b143f1ee-4629-4c8c-9a38-77175b1f5f9e\",\"type\":\"Rect\"},\"hover_glyph\":null,\"nonselection_glyph\":null,\"selection_glyph\":null},\"id\":\"364cb234-8892-4527-805d-8a1fa995ebfc\",\"type\":\"GlyphRenderer\"},{\"attributes\":{},\"id\":\"04d78f3d-bffc-41f2-9c7a-7e0821216788\",\"type\":\"BasicTickFormatter\"},{\"attributes\":{},\"id\":\"ac1dbfe3-d10b-4578-8f43-3db5d1acfa42\",\"type\":\"BasicTicker\"},{\"attributes\":{\"label\":{\"value\":\"PETROL\"},\"renderers\":[{\"id\":\"d52087d8-6136-42a6-8f4d-dbf1e43371fe\",\"type\":\"GlyphRenderer\"}]},\"id\":\"aded21d7-9b31-4308-8299-7424630a07f7\",\"type\":\"LegendItem\"},{\"attributes\":{\"callback\":null,\"end\":75.79125338142471},\"id\":\"6ded92d5-136a-4b71-9728-87bca75ea5ac\",\"type\":\"Range1d\"},{\"attributes\":{\"data_source\":{\"id\":\"884efb5d-f2f2-4690-b8ff-f722de9384f4\",\"type\":\"ColumnDataSource\"},\"glyph\":{\"id\":\"41b8f82d-a059-4bdb-bf1f-ab5a803065cf\",\"type\":\"Rect\"},\"hover_glyph\":null,\"nonselection_glyph\":null,\"selection_glyph\":null},\"id\":\"48eb9bc9-7503-4836-8e94-56eb94732556\",\"type\":\"GlyphRenderer\"},{\"attributes\":{\"bottom_units\":\"screen\",\"fill_alpha\":{\"value\":0.5},\"fill_color\":{\"value\":\"lightgrey\"},\"left_units\":\"screen\",\"level\":\"overlay\",\"line_alpha\":{\"value\":1.0},\"line_color\":{\"value\":\"black\"},\"line_dash\":[4,4],\"line_width\":{\"value\":2},\"plot\":null,\"render_mode\":\"css\",\"right_units\":\"screen\",\"top_units\":\"screen\"},\"id\":\"21c715e1-a50d-4a7b-89e2-7fcbb3217777\",\"type\":\"BoxAnnotation\"},{\"attributes\":{\"dimension\":1,\"plot\":{\"id\":\"8ebfbc28-7c31-44e8-aeda-295c9dbca3e5\",\"subtype\":\"Chart\",\"type\":\"Plot\"},\"ticker\":{\"id\":\"ac1dbfe3-d10b-4578-8f43-3db5d1acfa42\",\"type\":\"BasicTicker\"}},\"id\":\"6e153999-a3e1-4576-8b01-15b04861af29\",\"type\":\"Grid\"},{\"attributes\":{\"axis_label\":\"Fuel Type\",\"formatter\":{\"id\":\"f30b1300-e0e7-49d4-b782-0f89ae421b77\",\"type\":\"CategoricalTickFormatter\"},\"major_label_orientation\":0.7853981633974483,\"plot\":{\"id\":\"8ebfbc28-7c31-44e8-aeda-295c9dbca3e5\",\"subtype\":\"Chart\",\"type\":\"Plot\"},\"ticker\":{\"id\":\"6ef65a05-966c-4219-b150-aecd36302641\",\"type\":\"CategoricalTicker\"}},\"id\":\"55471a99-7fd6-4d70-a7c2-8956db7181d4\",\"type\":\"CategoricalAxis\"},{\"attributes\":{\"below\":[{\"id\":\"55471a99-7fd6-4d70-a7c2-8956db7181d4\",\"type\":\"CategoricalAxis\"}],\"css_classes\":null,\"left\":[{\"id\":\"e5a2f36d-13e2-4e30-a3be-e48c9e987702\",\"type\":\"LinearAxis\"}],\"plot_height\":500,\"renderers\":[{\"id\":\"21c715e1-a50d-4a7b-89e2-7fcbb3217777\",\"type\":\"BoxAnnotation\"},{\"id\":\"f4edf47e-17e1-4653-8977-86406d3c3be4\",\"type\":\"GlyphRenderer\"},{\"id\":\"c92c17e3-cce6-4f06-a024-8bb0b0dd7685\",\"type\":\"GlyphRenderer\"},{\"id\":\"d52087d8-6136-42a6-8f4d-dbf1e43371fe\",\"type\":\"GlyphRenderer\"},{\"id\":\"364cb234-8892-4527-805d-8a1fa995ebfc\",\"type\":\"GlyphRenderer\"},{\"id\":\"48eb9bc9-7503-4836-8e94-56eb94732556\",\"type\":\"GlyphRenderer\"},{\"id\":\"1a473daa-63f4-4c4d-bff4-fad294d3f032\",\"type\":\"GlyphRenderer\"},{\"id\":\"c6e2918e-3488-46b0-91f7-dfbb2b4437d0\",\"type\":\"Legend\"},{\"id\":\"55471a99-7fd6-4d70-a7c2-8956db7181d4\",\"type\":\"CategoricalAxis\"},{\"id\":\"e5a2f36d-13e2-4e30-a3be-e48c9e987702\",\"type\":\"LinearAxis\"},{\"id\":\"6e153999-a3e1-4576-8b01-15b04861af29\",\"type\":\"Grid\"}],\"title\":{\"id\":\"7fc822d9-2461-4c84-a42b-465da2afb48c\",\"type\":\"Title\"},\"tool_events\":{\"id\":\"2df67e2c-18d9-4b97-b14b-a858331e4503\",\"type\":\"ToolEvents\"},\"toolbar\":{\"id\":\"b9584b10-7b03-4eaa-8d68-5c99951f332b\",\"type\":\"Toolbar\"},\"x_mapper_type\":\"auto\",\"x_range\":{\"id\":\"fbed27ed-e6e6-477d-bdb7-0b2161f77cb8\",\"type\":\"FactorRange\"},\"y_mapper_type\":\"auto\",\"y_range\":{\"id\":\"6ded92d5-136a-4b71-9728-87bca75ea5ac\",\"type\":\"Range1d\"}},\"id\":\"8ebfbc28-7c31-44e8-aeda-295c9dbca3e5\",\"subtype\":\"Chart\",\"type\":\"Plot\"},{\"attributes\":{\"label\":{\"value\":\"LPG\"},\"renderers\":[{\"id\":\"1a473daa-63f4-4c4d-bff4-fad294d3f032\",\"type\":\"GlyphRenderer\"}]},\"id\":\"21352ff1-5361-48ca-8e77-3b13a3885865\",\"type\":\"LegendItem\"},{\"attributes\":{\"data_source\":{\"id\":\"2212a5ff-3cb2-484c-af50-b0d768d332f4\",\"type\":\"ColumnDataSource\"},\"glyph\":{\"id\":\"e58bded0-53cc-4099-b20e-f469cb634fdf\",\"type\":\"Rect\"},\"hover_glyph\":null,\"nonselection_glyph\":null,\"selection_glyph\":null},\"id\":\"1a473daa-63f4-4c4d-bff4-fad294d3f032\",\"type\":\"GlyphRenderer\"},{\"attributes\":{\"plot\":null,\"text\":null},\"id\":\"7fc822d9-2461-4c84-a42b-465da2afb48c\",\"type\":\"Title\"},{\"attributes\":{\"label\":{\"value\":\"ELECTRIC\"},\"renderers\":[{\"id\":\"48eb9bc9-7503-4836-8e94-56eb94732556\",\"type\":\"GlyphRenderer\"}]},\"id\":\"84dbc0bc-e4a5-4277-8464-fd6f30ff573d\",\"type\":\"LegendItem\"},{\"attributes\":{\"items\":[{\"id\":\"0cc7e905-3d49-4f9c-9773-637222692633\",\"type\":\"LegendItem\"},{\"id\":\"60f80b45-a13b-4c70-8a58-2cbbb429bf65\",\"type\":\"LegendItem\"},{\"id\":\"aded21d7-9b31-4308-8299-7424630a07f7\",\"type\":\"LegendItem\"},{\"id\":\"e1931f1a-137a-4583-bcd4-372228d32821\",\"type\":\"LegendItem\"},{\"id\":\"84dbc0bc-e4a5-4277-8464-fd6f30ff573d\",\"type\":\"LegendItem\"},{\"id\":\"21352ff1-5361-48ca-8e77-3b13a3885865\",\"type\":\"LegendItem\"}],\"location\":\"top_center\",\"plot\":{\"id\":\"8ebfbc28-7c31-44e8-aeda-295c9dbca3e5\",\"subtype\":\"Chart\",\"type\":\"Plot\"}},\"id\":\"c6e2918e-3488-46b0-91f7-dfbb2b4437d0\",\"type\":\"Legend\"},{\"attributes\":{\"active_drag\":\"auto\",\"active_scroll\":\"auto\",\"active_tap\":\"auto\",\"tools\":[{\"id\":\"e589b658-3313-4da9-b890-8b7a18186dad\",\"type\":\"PanTool\"},{\"id\":\"c712cda2-ee87-4ac1-988f-893a8310ed45\",\"type\":\"WheelZoomTool\"},{\"id\":\"cacf75e2-099c-415e-b03d-025ddef79573\",\"type\":\"BoxZoomTool\"},{\"id\":\"75cc2a28-091b-43f5-997d-787a644ed09a\",\"type\":\"SaveTool\"},{\"id\":\"568028cb-6b51-4c3e-903e-09ff14e63bf2\",\"type\":\"ResetTool\"},{\"id\":\"a98a9589-fdc1-4eb0-b4db-b659e63aef92\",\"type\":\"HelpTool\"}]},\"id\":\"b9584b10-7b03-4eaa-8d68-5c99951f332b\",\"type\":\"Toolbar\"},{\"attributes\":{\"callback\":null,\"factors\":[\"DIESEL\",\"Others\",\"PETROL\"]},\"id\":\"fbed27ed-e6e6-477d-bdb7-0b2161f77cb8\",\"type\":\"FactorRange\"},{\"attributes\":{\"axis_label\":\"Sum( Usage % )\",\"formatter\":{\"id\":\"04d78f3d-bffc-41f2-9c7a-7e0821216788\",\"type\":\"BasicTickFormatter\"},\"plot\":{\"id\":\"8ebfbc28-7c31-44e8-aeda-295c9dbca3e5\",\"subtype\":\"Chart\",\"type\":\"Plot\"},\"ticker\":{\"id\":\"ac1dbfe3-d10b-4578-8f43-3db5d1acfa42\",\"type\":\"BasicTicker\"}},\"id\":\"e5a2f36d-13e2-4e30-a3be-e48c9e987702\",\"type\":\"LinearAxis\"},{\"attributes\":{\"callback\":null,\"column_names\":[\"x\",\"y\",\"width\",\"height\",\"color\",\"fill_alpha\",\"line_color\",\"line_alpha\",\"label\"],\"data\":{\"Fuel Type\":[\"Others\"],\"Fuel Type (detail)\":[\"LPG\"],\"chart_index\":[{\"Fuel Type\":\"Others\",\"Fuel Type (detail)\":\"LPG\"}],\"color\":[\"#407ee7\"],\"fill_alpha\":[0.8],\"height\":[0.003886695065451945],\"label\":[{\"Fuel Type\":\"Others\",\"Fuel Type (detail)\":\"LPG\"}],\"line_alpha\":[1.0],\"line_color\":[\"white\"],\"width\":[0.8],\"x\":[\"Others\"],\"y\":[2.3432884549609776]}},\"id\":\"2212a5ff-3cb2-484c-af50-b0d768d332f4\",\"type\":\"ColumnDataSource\"},{\"attributes\":{\"label\":{\"value\":\"PETROL-ELECTRIC\"},\"renderers\":[{\"id\":\"c92c17e3-cce6-4f06-a024-8bb0b0dd7685\",\"type\":\"GlyphRenderer\"}]},\"id\":\"60f80b45-a13b-4c70-8a58-2cbbb429bf65\",\"type\":\"LegendItem\"},{\"attributes\":{\"label\":{\"value\":\"DIESEL\"},\"renderers\":[{\"id\":\"364cb234-8892-4527-805d-8a1fa995ebfc\",\"type\":\"GlyphRenderer\"}]},\"id\":\"e1931f1a-137a-4583-bcd4-372228d32821\",\"type\":\"LegendItem\"},{\"attributes\":{\"plot\":{\"id\":\"8ebfbc28-7c31-44e8-aeda-295c9dbca3e5\",\"subtype\":\"Chart\",\"type\":\"Plot\"}},\"id\":\"e589b658-3313-4da9-b890-8b7a18186dad\",\"type\":\"PanTool\"},{\"attributes\":{\"plot\":{\"id\":\"8ebfbc28-7c31-44e8-aeda-295c9dbca3e5\",\"subtype\":\"Chart\",\"type\":\"Plot\"}},\"id\":\"c712cda2-ee87-4ac1-988f-893a8310ed45\",\"type\":\"WheelZoomTool\"},{\"attributes\":{\"overlay\":{\"id\":\"21c715e1-a50d-4a7b-89e2-7fcbb3217777\",\"type\":\"BoxAnnotation\"},\"plot\":{\"id\":\"8ebfbc28-7c31-44e8-aeda-295c9dbca3e5\",\"subtype\":\"Chart\",\"type\":\"Plot\"}},\"id\":\"cacf75e2-099c-415e-b03d-025ddef79573\",\"type\":\"BoxZoomTool\"},{\"attributes\":{\"plot\":{\"id\":\"8ebfbc28-7c31-44e8-aeda-295c9dbca3e5\",\"subtype\":\"Chart\",\"type\":\"Plot\"}},\"id\":\"75cc2a28-091b-43f5-997d-787a644ed09a\",\"type\":\"SaveTool\"},{\"attributes\":{\"plot\":{\"id\":\"8ebfbc28-7c31-44e8-aeda-295c9dbca3e5\",\"subtype\":\"Chart\",\"type\":\"Plot\"}},\"id\":\"568028cb-6b51-4c3e-903e-09ff14e63bf2\",\"type\":\"ResetTool\"},{\"attributes\":{\"plot\":{\"id\":\"8ebfbc28-7c31-44e8-aeda-295c9dbca3e5\",\"subtype\":\"Chart\",\"type\":\"Plot\"}},\"id\":\"a98a9589-fdc1-4eb0-b4db-b659e63aef92\",\"type\":\"HelpTool\"},{\"attributes\":{\"callback\":null,\"column_names\":[\"x\",\"y\",\"width\",\"height\",\"color\",\"fill_alpha\",\"line_color\",\"line_alpha\",\"label\"],\"data\":{\"Fuel Type\":[\"Others\"],\"Fuel Type (detail)\":[\"PETROL-ELECTRIC\"],\"chart_index\":[{\"Fuel Type\":\"Others\",\"Fuel Type (detail)\":\"PETROL-ELECTRIC\"}],\"color\":[\"#c33ff3\"],\"fill_alpha\":[0.8],\"height\":[2.2014240850719813],\"label\":[{\"Fuel Type\":\"Others\",\"Fuel Type (detail)\":\"PETROL-ELECTRIC\"}],\"line_alpha\":[1.0],\"line_color\":[\"white\"],\"width\":[0.8],\"x\":[\"Others\"],\"y\":[1.231304996735176]}},\"id\":\"edc21b84-ca10-4186-abd7-69d6e92d29c6\",\"type\":\"ColumnDataSource\"}],\"root_ids\":[\"8ebfbc28-7c31-44e8-aeda-295c9dbca3e5\"]},\"title\":\"Bokeh Application\",\"version\":\"0.12.4\"}};\n",
       "              var render_items = [{\"docid\":\"ed92e5fb-f015-46cf-b54f-ad6aed603510\",\"elementid\":\"2f497c11-a19d-48c0-852b-40fd8f5f07a5\",\"modelid\":\"8ebfbc28-7c31-44e8-aeda-295c9dbca3e5\"}];\n",
       "              \n",
       "              Bokeh.embed.embed_items(docs_json, render_items);\n",
       "            });\n",
       "          };\n",
       "          if (document.readyState != \"loading\") fn();\n",
       "          else document.addEventListener(\"DOMContentLoaded\", fn);\n",
       "        })();\n",
       "        \n",
       "        </script>\n",
       "    </body>\n",
       "</html>"
      ],
      "text/plain": [
       "<IPython.core.display.HTML object>"
      ]
     },
     "metadata": {},
     "output_type": "display_data"
    }
   ],
   "source": [
    "displayHTML('../results/bars_fueltypes.html')"
   ]
  },
  {
   "cell_type": "markdown",
   "metadata": {},
   "source": [
    "Description of the bar plot"
   ]
  },
  {
   "cell_type": "code",
   "execution_count": null,
   "metadata": {
    "collapsed": false
   },
   "outputs": [],
   "source": [
    "box = BoxPlot(data, values='e', label='Ft', \n",
    "              color='Ft', plot_width=1000)\n",
    "print(registersDF.shape)\n",
    "output_file('../results/box.html')\n",
    "show(box)"
   ]
  },
  {
   "cell_type": "code",
   "execution_count": null,
   "metadata": {
    "collapsed": true
   },
   "outputs": [],
   "source": [
    "displayHTML('../results/box.html')"
   ]
  },
  {
   "cell_type": "markdown",
   "metadata": {},
   "source": [
    "![BoxPlot Fuels](boxplot_fuels.png)\n",
    "Describe boxplot"
   ]
  },
  {
   "cell_type": "markdown",
   "metadata": {},
   "source": [
    "## Analysis 3: Most green-friendly manufacturers"
   ]
  },
  {
   "cell_type": "code",
   "execution_count": null,
   "metadata": {
    "collapsed": false
   },
   "outputs": [],
   "source": [
    "data = pd.read_csv(datasetPath, header=0)\n",
    "manufact = set([])\n",
    "for i in data['Mh'].values:\n",
    "    manufact.add(i)\n",
    "\n",
    "manufactArray = []\n",
    "registers = []\n",
    "totalEmission = []\n",
    "averageE = []\n",
    "carsUnder95 = []\n",
    "carsUnder95Percent = []\n",
    "for m in manufact:\n",
    "    mData = data[data.Mh == m]\n",
    "    manufactArray.append(m)\n",
    "    regs = 0\n",
    "    em = 0\n",
    "    c95 = 0\n",
    "    for label, row in mData.iterrows():\n",
    "        regs = regs + row['r']\n",
    "        em = em + (row['e'] * row['r'])\n",
    "        if(row['e'] <= 95):\n",
    "            c95 = c95 + row['r']\n",
    "    registers.append(regs)\n",
    "    totalEmission.append(em)\n",
    "    carsUnder95.append(c95)\n",
    "    averageE.append(em / regs)\n",
    "    carsUnder95Percent.append((c95/regs)*100)"
   ]
  },
  {
   "cell_type": "code",
   "execution_count": null,
   "metadata": {
    "collapsed": false
   },
   "outputs": [],
   "source": [
    "manufactFrame = pd.DataFrame()\n",
    "manufactFrame = manufactFrame.append(pd.DataFrame({'Mh' : manufactArray}))\n",
    "manufactFrame['r'] = np.nan\n",
    "manufactFrame['e'] = np.nan\n",
    "manufactFrame['averageE'] = np.nan\n",
    "manufactFrame['carsUnder95'] = np.nan\n",
    "manufactFrame['carsUnder95Percent'] = np.nan\n",
    "manufactFrame['circleSize'] = np.nan\n",
    "manufactFrame['circleColor'] = ''\n",
    "print (\"%0.2X\" % 120)\n",
    "for i in range(len(registers)):\n",
    "    manufactFrame.set_value(i, 'r', registers[i])\n",
    "    manufactFrame.set_value(i, 'e', totalEmission[i])\n",
    "    manufactFrame.set_value(i, 'carsUnder95', carsUnder95[i])\n",
    "    manufactFrame.set_value(i, 'averageE', averageE[i])\n",
    "    manufactFrame.set_value(i, 'carsUnder95Percent', carsUnder95Percent[i])\n",
    "    manufactFrame.set_value(i, 'circleSize', (carsUnder95Percent[i]/2)+25)\n",
    "    r = str(\"%0.2X\" % int((averageE[i]/1000)*255))\n",
    "    g = str(\"%0.2X\" % int((carsUnder95Percent[i]/100)*255))\n",
    "    b = str(\"%0.2X\" % 30)\n",
    "    manufactFrame.set_value(i, 'circleColor', \"#\"+r+g+b)\n",
    "s = ColumnDataSource(manufactFrame)\n",
    "p = figure(x_axis_label='Registers', y_axis_label='Average Emission (g/km)', title=\"Emission on Manufacturers\")\n",
    "p.circle('r', 'averageE', size='circleSize', source=s, alpha=0.6, fill_color='circleColor')\n",
    "\n",
    "tips=[('Name','@Mh'),\n",
    "     ('Cars under 95g/km','@carsUnder95')]\n",
    "\n",
    "hline = Span(location=95, dimension='width', line_color='green', line_width=3, line_dash='dashed')\n",
    "p.renderers.extend([hline])\n",
    "p.add_layout(Label(x=40000, y=95, text='95 g/km target'))\n",
    "hover = HoverTool(tooltips=tips)\n",
    "p.add_tools(hover)\n",
    "output_file(\"../results/emission_manufact.html\")\n",
    "show(p)"
   ]
  },
  {
   "cell_type": "code",
   "execution_count": null,
   "metadata": {
    "collapsed": false
   },
   "outputs": [],
   "source": [
    "displayHTML('../results/emission_manufact.html')"
   ]
  },
  {
   "cell_type": "markdown",
   "metadata": {},
   "source": [
    "scatter plot description"
   ]
  },
  {
   "cell_type": "markdown",
   "metadata": {},
   "source": [
    "## Analysis 4: Emissions per country\n",
    "\n",
    "Average distance travelled by car per year on the European Union in 2011: 12284.03 km\n",
    "(Font: http://odyssee.enerdata.net/database/ -> Transport -> Kilometers -> Cars)\n",
    "\n",
    "Based on that, we can calculate each car emissions per year.\n",
    "r * e * distance (result = g of C02)\n",
    "\n",
    "And then, sum up per country to have the data to infeer what country emits more CO2 from passenger cars registered in 2015"
   ]
  },
  {
   "cell_type": "code",
   "execution_count": null,
   "metadata": {
    "collapsed": false
   },
   "outputs": [],
   "source": [
    "kmPerYear=12284.03\n",
    "data = pd.read_csv(datasetPath, header=0)\n",
    "\n",
    "countriesDF = pd.read_csv(\"../datasets/european-union-countries.csv\")\n",
    "countriesDF['totalEmission'] = ''\n",
    "countriesDF['totalPerHab'] = ''\n",
    "countriesDF['circleSize'] = ''\n",
    "countriesDF['circleColor'] = ''\n",
    "emissions = []\n",
    "emissionsPerHab = []\n",
    "circleSize = []\n",
    "\n",
    "for label, row in countriesDF.iterrows():\n",
    "    id = row['id']\n",
    "    countryDF = data[data.MS == id]\n",
    "    emission = 0\n",
    "    for label, row2 in countryDF.iterrows():\n",
    "        emission = emission + (row2['r'] * row2['e'])*kmPerYear\n",
    "    emissions.append(emission)\n",
    "    ePerHab = emission/row['POPULATION']\n",
    "    emissionsPerHab.append(ePerHab)\n",
    "    circleSize.append(26+ePerHab*0.014)\n",
    "    \n",
    "for i in range(len(emissions)):\n",
    "    countriesDF.set_value(i, 'totalEmission', emissions[i]/1000/1000)\n",
    "    countriesDF.set_value(i, 'totalPerHab', emissionsPerHab[i]/1000)\n",
    "    countriesDF.set_value(i, 'circleSize', circleSize[i])\n",
    "    pollutionFactor = int(emissionsPerHab[i]*0.07)\n",
    "    r = str(\"%0.2X\" %(pollutionFactor + 0))\n",
    "    g = str(\"%0.2X\" %(255 - int(pollutionFactor)))\n",
    "    b = str(\"%0.2X\" % 0)\n",
    "    countriesDF.set_value(i, 'circleColor', \"#\"+r+g+b)\n",
    "\n",
    "countriesSource = ColumnDataSource(countriesDF)\n",
    "p = figure(x_axis_label='POPULATION', y_axis_label='Emission of CO2 (ton) in 2015', title='Emissions per Country')\n",
    "p.circle('POPULATION', 'totalEmission', source=countriesSource, size='circleSize', alpha=0.8, color='circleColor')\n",
    "p.text('POPULATION', 'totalEmission',text='id', source=countriesSource, text_baseline=\"middle\", text_align=\"center\")\n",
    "p.add_tools(HoverTool(tooltips=[('Name','@COUNTRYNAME'), ('Emissions (kg) per hab.','@totalPerHab')]))\n",
    "p.plot_width=920\n",
    "p.xaxis[0].formatter.use_scientific = False\n",
    "\n",
    "output_file('../results/eu-emission.html')\n",
    "show(p)"
   ]
  },
  {
   "cell_type": "code",
   "execution_count": null,
   "metadata": {
    "collapsed": false
   },
   "outputs": [],
   "source": [
    "displayHTML('../results/eu-emission.html')"
   ]
  },
  {
   "cell_type": "markdown",
   "metadata": {},
   "source": [
    "plot description"
   ]
  }
 ],
 "metadata": {
  "kernelspec": {
   "display_name": "Python 3",
   "language": "python",
   "name": "python3"
  },
  "language_info": {
   "codemirror_mode": {
    "name": "ipython",
    "version": 3
   },
   "file_extension": ".py",
   "mimetype": "text/x-python",
   "name": "python",
   "nbconvert_exporter": "python",
   "pygments_lexer": "ipython3",
   "version": "3.6.0"
  }
 },
 "nbformat": 4,
 "nbformat_minor": 2
}
